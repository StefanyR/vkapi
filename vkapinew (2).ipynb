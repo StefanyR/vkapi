{
 "cells": [
  {
   "cell_type": "code",
   "execution_count": 2,
   "metadata": {
    "collapsed": true
   },
   "outputs": [],
   "source": [
    "import vk_api\n",
    "\n",
    "import time\n",
    "session = vk_api.VkApi(token = '74be04dc74be04dc74be04dcbf74d748c8774be74be04dc2835ae706795ffd95f69e365')\n",
    "vk = session.get_api()\n",
    "\n",
    "offset = 0\n",
    "posts = ''\n",
    "c = 0\n",
    "k=c\n",
    "s=[]\n",
    "d=dict() # индекс + количество лайков поста\n",
    "t=dict() # индекс + текст поста\n",
    "for i in range(0,20):\n",
    "    data = vk.wall.get(domain = 'max_frei_exo',count=100, offset=offset)\n",
    "    offset += 50\n",
    "    for i in data['items']:\n",
    "        #print(c,\".\",i['likes']['count'])\n",
    "        new={c: i['likes']['count'] }\n",
    "        d.update(new)\n",
    "        newt={c:i['text']}\n",
    "        t.update(newt)\n",
    "        s.append(i['likes']['count'])\n",
    "        c += 1\n",
    "        \n",
    "    time.sleep(1)"
   ]
  },
  {
   "cell_type": "code",
   "execution_count": 3,
   "metadata": {},
   "outputs": [],
   "source": [
    "ns=[]\n",
    "s.sort(reverse = True)\n",
    "for i in range(0,2000):\n",
    "    ns.append(s[i]) #в этом списке хранится количество лайков в порядке убывания"
   ]
  },
  {
   "cell_type": "code",
   "execution_count": 4,
   "metadata": {
    "collapsed": true
   },
   "outputs": [],
   "source": [
    "def get_key(dic,value):\n",
    "    for k,v in dic.items():\n",
    "        if v==value:\n",
    "            return k\n",
    "#функция для извлечения ключа по значению элемента       "
   ]
  },
  {
   "cell_type": "code",
   "execution_count": 5,
   "metadata": {
    "collapsed": true,
    "scrolled": false
   },
   "outputs": [],
   "source": [
    "indexes=[]\n",
    "for i in ns:\n",
    "    indexes.append(get_key(d,i))"
   ]
  },
  {
   "cell_type": "code",
   "execution_count": 6,
   "metadata": {},
   "outputs": [],
   "source": [
    "from itertools import groupby\n",
    "new_indexes=[el for el, _ in groupby(indexes)]\n",
    "#убираем повторы"
   ]
  },
  {
   "cell_type": "code",
   "execution_count": 7,
   "metadata": {
    "collapsed": true
   },
   "outputs": [],
   "source": [
    "finaltexts=[]\n",
    "for i in new_indexes:\n",
    "    finaltexts.append(t[i])"
   ]
  },
  {
   "cell_type": "code",
   "execution_count": 8,
   "metadata": {},
   "outputs": [
    {
     "name": "stdout",
     "output_type": "stream",
     "text": [
      "first= 1\n",
      "second= 0\n",
      "third= 0\n",
      "fourth= 0\n",
      "fifth= 0\n",
      "sixth= 1\n",
      "seventh= 1\n",
      "eighth= 1\n",
      "v= 23\n",
      "h= 38\n",
      "sn= 0\n",
      "lab= 1\n",
      "1 1 1 1 1 1 1 1\n"
     ]
    }
   ],
   "source": [
    "first=0\n",
    "second=0\n",
    "third=0\n",
    "fourth=0\n",
    "fifth=0\n",
    "sixth=0\n",
    "seventh=0\n",
    "eighth=0\n",
    "v=0\n",
    "h=0\n",
    "sn=0\n",
    "lab=0\n",
    "h2=0\n",
    "h3=0\n",
    "h4=0\n",
    "h5=0\n",
    "h6=0\n",
    "h7=0\n",
    "h8=0\n",
    "h9=0\n",
    "for i in finaltexts:\n",
    "    if 'чужак' or 'дебют в ехо' or 'джуба чебобарго и другие милые люди' or 'камера № 5-хох-ау' or 'король банджи' or 'жертвы обстоятельств' or 'путешествие в кеттари' in i.lower():\n",
    "        first=+1\n",
    "    if 'волонтеры вечности' or 'магахонские лисы' or 'корабль из арвароха и другие неприятности' or 'очки бакки бугвина' in i.lower():\n",
    "        second==+1\n",
    "    if 'простые волшебные вещи' or 'тень гугимагона' in i.lower():\n",
    "        third==+1\n",
    "    if 'темная сторона' or 'темные вассалы гленке тавала' or 'дорот — повелитель манухов' in i.lower():\n",
    "        fourth==+1\n",
    "    if 'наваждения' or 'зеленые воды ишмы' or 'сладкие грезы гравви' in i.lower():\n",
    "        fifth==+1\n",
    "    if  'власть несбывшегося'  or 'возвращение угурбадо' or 'гугландские топи' in i.lower():\n",
    "        sixth=+1\n",
    "    if 'болтливый мертвец' or 'тайна клуба дубовых листьев' or 'наследство для лонли-локли' or 'книга огненных страниц' in i.lower():\n",
    "        seventh=+1\n",
    "    if 'лабиринт менина' or 'тихий город' or 'белые камни харумбы' in i.lower():\n",
    "        eighth=+1\n",
    "    if 'вильнюс' in i.lower():\n",
    "        v+=1\n",
    "    if 'сновиденья'  in i.lower():\n",
    "        sn+=1\n",
    "    if 'лабиринты ехо'  in i.lower():\n",
    "        lab=+1\n",
    "    if 'хроники'  in i.lower():\n",
    "        h+=1\n",
    "    if 'чуб земли'  in i.lower():\n",
    "        h2=+1\n",
    "    if 'властелин морморы'  in i.lower():\n",
    "        h3=+1\n",
    "    if 'неуловимый хабба хэн'  in i.lower():\n",
    "        h4=+1\n",
    "    if 'ворона на мосту'  in i.lower():\n",
    "        h5=+1\n",
    "    if 'горе господина гро'  in i.lower():\n",
    "        h6=+1\n",
    "    if 'обжора-хохотун'  in i.lower():\n",
    "        h7=+1\n",
    "    if 'дар шаванахолы'  in i.lower():\n",
    "        h8=+1\n",
    "    if 'тубурская игра'  in i.lower():\n",
    "        h9=+1\n",
    "    \n",
    "print('first=',first)\n",
    "print('second=',second)\n",
    "print('third=',third) \n",
    "print('fourth=',fourth)\n",
    "print('fifth=',fifth)\n",
    "print('sixth=',sixth)\n",
    "print('seventh=',seventh)\n",
    "print('eighth=',eighth)\n",
    "print('v=',v)\n",
    "print('h=',h)\n",
    "print('sn=',sn)\n",
    "print('lab=',lab)\n",
    "print(h2,h3,h4,h5,h6,h7,h8,h9)"
   ]
  },
  {
   "cell_type": "code",
   "execution_count": null,
   "metadata": {
    "collapsed": true
   },
   "outputs": [],
   "source": []
  },
  {
   "cell_type": "code",
   "execution_count": null,
   "metadata": {
    "collapsed": true
   },
   "outputs": [],
   "source": []
  }
 ],
 "metadata": {
  "kernelspec": {
   "display_name": "Python 3",
   "language": "python",
   "name": "python3"
  },
  "language_info": {
   "codemirror_mode": {
    "name": "ipython",
    "version": 3
   },
   "file_extension": ".py",
   "mimetype": "text/x-python",
   "name": "python",
   "nbconvert_exporter": "python",
   "pygments_lexer": "ipython3",
   "version": "3.6.3"
  }
 },
 "nbformat": 4,
 "nbformat_minor": 2
}
